{
 "cells": [
  {
   "cell_type": "markdown",
   "id": "fc5dcf21-0afa-4122-b84c-15135ae30cd1",
   "metadata": {},
   "source": [
    "## Homework - week 1\n",
    "\n",
    "We'll use the same NYC taxi dataset, but instead of \"Green Taxi Trip Records\", we'll use \"Yellow Taxi Trip Records\".\n",
    "Download the data for January and February 2023."
   ]
  },
  {
   "cell_type": "code",
   "execution_count": 2,
   "id": "bf1f1971-529e-4ef1-a2d7-f5c007eea66f",
   "metadata": {},
   "outputs": [],
   "source": [
    "import pandas as pd\n",
    "import seaborn as sns\n",
    "import matplotlib.pyplot as plt\n",
    "from sklearn.feature_extraction import DictVectorizer\n",
    "from sklearn.linear_model import LinearRegression\n",
    "\n",
    "from sklearn.metrics import mean_squared_error"
   ]
  },
  {
   "cell_type": "code",
   "execution_count": 3,
   "id": "f02db18f-b2c8-43c8-b0b9-8bbf340b7465",
   "metadata": {},
   "outputs": [
    {
     "name": "stdout",
     "output_type": "stream",
     "text": [
      "Number of columns (january DF):  19\n"
     ]
    }
   ],
   "source": [
    "# Q1. Downloading the data\n",
    "# Read the data for January. How many columns are there?\n",
    "\n",
    "df_jan = pd.read_parquet('../data/yellow_tripdata_2023-01.parquet')\n",
    "df_feb = pd.read_parquet('../data/yellow_tripdata_2023-02.parquet')\n",
    "\n",
    "print(\"Number of columns (january DF): \", len(df_jan.columns))"
   ]
  },
  {
   "cell_type": "code",
   "execution_count": 4,
   "id": "5fbcb30e-5633-47be-95f7-47704c1025fb",
   "metadata": {},
   "outputs": [],
   "source": [
    "# Q2. Computing duration\n",
    "# Now let's compute the duration variable. It should contain the duration of a ride in minutes. \n",
    "# What's the standard deviation of the trips duration in January?\n",
    "def add_duration(df):\n",
    "    df['duration'] = (df.tpep_dropoff_datetime - df.tpep_pickup_datetime)\n",
    "    df.duration = df.duration.apply(lambda td: td.total_seconds() / 60)\n",
    "\n",
    "add_duration(df_jan)\n",
    "add_duration(df_feb)"
   ]
  },
  {
   "cell_type": "code",
   "execution_count": 5,
   "id": "f0f6205a-7caf-49ba-8014-e660dfe9ad91",
   "metadata": {},
   "outputs": [
    {
     "name": "stdout",
     "output_type": "stream",
     "text": [
      "Standard deviation (january DF): 42.59\n"
     ]
    }
   ],
   "source": [
    "print('Standard deviation (january DF):', round(df_jan['duration'].std(), 2))"
   ]
  },
  {
   "cell_type": "code",
   "execution_count": 6,
   "id": "0ebbc01a-8c31-43f0-9e05-be2f9e2da535",
   "metadata": {},
   "outputs": [
    {
     "name": "stderr",
     "output_type": "stream",
     "text": [
      "/tmp/nix-shell.Qb22vg/ipykernel_57327/3416407160.py:6: UserWarning: Boolean Series key will be reindexed to match DataFrame index.\n",
      "  filtered = df[(df_jan['duration'] > 1) & (df['duration'] < 60)]\n"
     ]
    },
    {
     "name": "stdout",
     "output_type": "stream",
     "text": [
      "Fraction of the record left (january DF): 98.0%\n"
     ]
    }
   ],
   "source": [
    "# Q3. Dropping outliers\n",
    "# Next, we need to check the distribution of the duration variable. There are some outliers. Let's remove them and keep\n",
    "# only the records where the duration was between 1 and 60 minutes (inclusive). What fraction of the records left after \n",
    "# you dropped the outliers?\n",
    "def filter_dataframe(df):\n",
    "    filtered = df[(df_jan['duration'] > 1) & (df['duration'] < 60)]\n",
    "    return filtered\n",
    "\n",
    "df_jan_filtered = filter_dataframe(df_jan)\n",
    "df_feb_filtered = filter_dataframe(df_feb)\n",
    "\n",
    "df_jan_len = len(df_jan.index)\n",
    "df_jan_filtered_len = len(df_jan_filtered.index)\n",
    "\n",
    "fraction_left = (df_jan_filtered_len / df_jan_len) * 100\n",
    "print(f'Fraction of the record left (january DF): {round(fraction_left, 0)}%')"
   ]
  },
  {
   "cell_type": "code",
   "execution_count": 9,
   "id": "3d89d53b-d17b-499d-afe7-c8753168d49c",
   "metadata": {},
   "outputs": [
    {
     "name": "stderr",
     "output_type": "stream",
     "text": [
      "/tmp/nix-shell.Qb22vg/ipykernel_57327/1861762296.py:9: SettingWithCopyWarning: \n",
      "A value is trying to be set on a copy of a slice from a DataFrame.\n",
      "Try using .loc[row_indexer,col_indexer] = value instead\n",
      "\n",
      "See the caveats in the documentation: https://pandas.pydata.org/pandas-docs/stable/user_guide/indexing.html#returning-a-view-versus-a-copy\n",
      "  df[categorical] = df[categorical].astype(str)\n",
      "/tmp/nix-shell.Qb22vg/ipykernel_57327/1861762296.py:9: SettingWithCopyWarning: \n",
      "A value is trying to be set on a copy of a slice from a DataFrame.\n",
      "Try using .loc[row_indexer,col_indexer] = value instead\n",
      "\n",
      "See the caveats in the documentation: https://pandas.pydata.org/pandas-docs/stable/user_guide/indexing.html#returning-a-view-versus-a-copy\n",
      "  df[categorical] = df[categorical].astype(str)\n"
     ]
    },
    {
     "name": "stdout",
     "output_type": "stream",
     "text": [
      "Dimensionality of the train matrix (january DF):  2\n"
     ]
    }
   ],
   "source": [
    "# 04. One hot encoding\n",
    "# Let's apply one-hot encoding to the pickup and dropoff location IDs. We'll use only these two features for our model.\n",
    "# - Turn the dataframe into a list of dictionaries (remember to re-cast the ids to strings - otherwise it will label encode them)\n",
    "# - Fit a dictionary vectorizer\n",
    "# - Get a feature matrix from it\n",
    "# What's the dimensionality of this matrix (number of columns)?\n",
    "def x_data(df):\n",
    "    categorical = ['PULocationID', 'DOLocationID']\n",
    "    df[categorical] = df[categorical].astype(str)\n",
    "    return df[categorical].to_dict(orient='records')\n",
    "\n",
    "dv = DictVectorizer()\n",
    "X_train_hw = dv.fit_transform(x_data(df_jan_filtered))\n",
    "X_val_hw = dv.transform(x_data(df_feb_filtered))\n",
    "\n",
    "print('Dimensionality of the train matrix (january DF): ', X_train_hw.ndim)"
   ]
  },
  {
   "cell_type": "code",
   "execution_count": 10,
   "id": "b9847aef-0008-4ff1-a6a8-06a26479e8f7",
   "metadata": {},
   "outputs": [],
   "source": [
    "# 05. Training model\n",
    "# Now let's use the feature matrix from the previous step to train a model.\n",
    "# - Train a plain linear regression model with default parameters\n",
    "# - Calculate the RMSE of the model on the training data\n",
    "# What's the RMSE on train?\n",
    "def train_and_predict(X, y):\n",
    "    lr = LinearRegression()\n",
    "    lr.fit(X, y)\n",
    "    return lr.predict(X)\n",
    "\n",
    "    \n",
    "y_train_hw = df_jan_filtered['duration'].values\n",
    "y_train_hw_predict = train_and_predict(X_train_hw, y_train_hw)\n",
    "\n",
    "y_val_hw = df_feb_filtered['duration'].values\n",
    "y_val_hw_predict =  train_and_predict(X_val_hw, y_val_hw)"
   ]
  },
  {
   "cell_type": "code",
   "execution_count": 11,
   "id": "5b172cbb-828e-4d30-83a2-2e292b9fc27a",
   "metadata": {},
   "outputs": [
    {
     "name": "stdout",
     "output_type": "stream",
     "text": [
      "RMSE train value: 7.65, RMSE val value: 8.06\n"
     ]
    },
    {
     "name": "stderr",
     "output_type": "stream",
     "text": [
      "/nix/store/kvpg58s66ywi60yw53h79zvfhlcbpnc0-python3.11-scikit-learn-1.4.2/lib/python3.11/site-packages/sklearn/metrics/_regression.py:483: FutureWarning: 'squared' is deprecated in version 1.4 and will be removed in 1.6. To calculate the root mean squared error, use the function'root_mean_squared_error'.\n",
      "  warnings.warn(\n",
      "/nix/store/kvpg58s66ywi60yw53h79zvfhlcbpnc0-python3.11-scikit-learn-1.4.2/lib/python3.11/site-packages/sklearn/metrics/_regression.py:483: FutureWarning: 'squared' is deprecated in version 1.4 and will be removed in 1.6. To calculate the root mean squared error, use the function'root_mean_squared_error'.\n",
      "  warnings.warn(\n"
     ]
    }
   ],
   "source": [
    "rmse_train = mean_squared_error(y_train_hw, y_train_hw_predict, squared=False)\n",
    "rmse_val = mean_squared_error(y_val_hw, y_val_hw_predict, squared=False)\n",
    "print(f'RMSE train value: {round(rmse_train, 2)}, RMSE val value: {round(rmse_val, 2)}')"
   ]
  },
  {
   "cell_type": "code",
   "execution_count": 12,
   "id": "57e0f4bf-8912-43b2-9a8b-305cce91dd69",
   "metadata": {},
   "outputs": [
    {
     "name": "stderr",
     "output_type": "stream",
     "text": [
      "/tmp/nix-shell.Qb22vg/ipykernel_57327/1739932881.py:1: UserWarning: \n",
      "\n",
      "`distplot` is a deprecated function and will be removed in seaborn v0.14.0.\n",
      "\n",
      "Please adapt your code to use either `displot` (a figure-level function with\n",
      "similar flexibility) or `histplot` (an axes-level function for histograms).\n",
      "\n",
      "For a guide to updating your code to use the new functions, please see\n",
      "https://gist.github.com/mwaskom/de44147ed2974457ad6372750bbe5751\n",
      "\n",
      "  sns.distplot(y_val_hw_predict, label='prediction')\n",
      "/tmp/nix-shell.Qb22vg/ipykernel_57327/1739932881.py:2: UserWarning: \n",
      "\n",
      "`distplot` is a deprecated function and will be removed in seaborn v0.14.0.\n",
      "\n",
      "Please adapt your code to use either `displot` (a figure-level function with\n",
      "similar flexibility) or `histplot` (an axes-level function for histograms).\n",
      "\n",
      "For a guide to updating your code to use the new functions, please see\n",
      "https://gist.github.com/mwaskom/de44147ed2974457ad6372750bbe5751\n",
      "\n",
      "  sns.distplot(y_train_hw, label='actual')\n"
     ]
    },
    {
     "data": {
      "text/plain": [
       "<matplotlib.legend.Legend at 0x7ffd04769050>"
      ]
     },
     "execution_count": 12,
     "metadata": {},
     "output_type": "execute_result"
    },
    {
     "data": {
      "image/png": "[encoded data removed]",
      "text/plain": [
       "<Figure size 640x480 with 1 Axes>"
      ]
     },
     "metadata": {},
     "output_type": "display_data"
    }
   ],
   "source": [
    "sns.distplot(y_val_hw_predict, label='prediction')\n",
    "sns.distplot(y_train_hw, label='actual')\n",
    "plt.legend()"
   ]
  },
  {
   "cell_type": "code",
   "execution_count": null,
   "id": "53aba20d-62d6-4fdc-ab81-802c14e9d26a",
   "metadata": {},
   "outputs": [],
   "source": []
  }
 ],
 "metadata": {
  "kernelspec": {
   "display_name": "Python 3 (ipykernel)",
   "language": "python",
   "name": "python3"
  },
  "language_info": {
   "codemirror_mode": {
    "name": "ipython",
    "version": 3
   },
   "file_extension": ".py",
   "mimetype": "text/x-python",
   "name": "python",
   "nbconvert_exporter": "python",
   "pygments_lexer": "ipython3",
   "version": "3.11.9"
  }
 },
 "nbformat": 4,
 "nbformat_minor": 5
}
