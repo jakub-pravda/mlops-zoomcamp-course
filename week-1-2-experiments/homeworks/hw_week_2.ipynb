{
 "cells": [
  {
   "cell_type": "markdown",
   "id": "e0ad1226-4def-454d-8a16-83a65585e75f",
   "metadata": {},
   "source": [
    "## Homework - week 2\n",
    "\n",
    "The goal of this homework is to get familiar with MLflow, the tool for experiment tracking and model management."
   ]
  },
  {
   "cell_type": "code",
   "execution_count": 19,
   "id": "7be9e775-1f26-43a9-9977-28932caab1f7",
   "metadata": {},
   "outputs": [
    {
     "name": "stdout",
     "output_type": "stream",
     "text": [
      "mlflow, version 2.12.2\n"
     ]
    }
   ],
   "source": [
    "! mlflow --version"
   ]
  },
  {
   "cell_type": "code",
   "execution_count": 26,
   "id": "b672851a-6ae1-4ab9-9d90-e09b0dac7b41",
   "metadata": {},
   "outputs": [
    {
     "name": "stdout",
     "output_type": "stream",
     "text": [
      "Downloading green_tripdata_2023-01.parquet...\n",
      "Downloading green_tripdata_2023-01.parquet complete\n",
      "File green_tripdata_2023-02.parquet already exists\n",
      "File green_tripdata_2023-03.parquet already exists\n"
     ]
    }
   ],
   "source": [
    "# Q2. Download and preprocess the data\n",
    "\n",
    "import os\n",
    "import requests\n",
    "\n",
    "data_dir = '../data/hw-week-2'\n",
    "datasets = [\n",
    "    'https://d37ci6vzurychx.cloudfront.net/trip-data/green_tripdata_2023-01.parquet',\n",
    "    'https://d37ci6vzurychx.cloudfront.net/trip-data/green_tripdata_2023-02.parquet',\n",
    "    'https://d37ci6vzurychx.cloudfront.net/trip-data/green_tripdata_2023-03.parquet'\n",
    "]\n",
    "\n",
    "if not os.path.exists(data_dir):\n",
    "    os.makedirs(data_dir)\n",
    "\n",
    "for dataset in datasets:\n",
    "    filename = dataset.split('/')[-1]\n",
    "    dst = f'{data_dir}/{filename}'\n",
    "    \n",
    "    if os.path.isfile(dst):\n",
    "        print(f\"File {filename} already exists\")\n",
    "    else:\n",
    "        print(f\"Downloading {filename}...\")\n",
    "        response = requests.get(dataset)\n",
    "    \n",
    "        with open(dst, 'wb') as file:\n",
    "            for chunk in response.iter_content(chunk_size=1024):\n",
    "                file.write(chunk)\n",
    "        print(f\"Downloading {filename} complete\")\n"
   ]
  },
  {
   "cell_type": "code",
   "execution_count": 44,
   "id": "69d8a0f7-df92-4ce6-9951-7f23c6741557",
   "metadata": {},
   "outputs": [
    {
     "name": "stdout",
     "output_type": "stream",
     "text": [
      "Num of files: 4\n"
     ]
    }
   ],
   "source": [
    "# Use the script preprocess_data.py located in the folder homework to preprocess the data.\n",
    "\n",
    "# The script will:\n",
    "\n",
    "#     load the data from the folder <TAXI_DATA_FOLDER> (the folder where you have downloaded the data),\n",
    "#     fit a DictVectorizer on the training set (January 2023 data),\n",
    "#     save the preprocessed datasets and the DictVectorizer to disk.\n",
    "\n",
    "! mkdir -p ../output/ && rm -f ../output/* 2>/dev/null \n",
    "! python ./scripts/hw-week-2/preprocess_data.py --raw_data_path ../data/hw-week-2 --dest_path ../output\n",
    "! echo \"Num of files: $(ls -1q ../output/ | wc -l)\""
   ]
  },
  {
   "cell_type": "code",
   "execution_count": 51,
   "id": "3f35f814-e977-4ac0-b70d-94802963769e",
   "metadata": {},
   "outputs": [
    {
     "name": "stdout",
     "output_type": "stream",
     "text": [
      "2024/05/27 14:53:15 INFO mlflow.tracking.fluent: Autologging successfully enabled for sklearn.\n",
      "2024/05/27 14:53:15 WARNING mlflow.spark: With Pyspark >= 3.2, PYSPARK_PIN_THREAD environment variable must be set to false for Spark datasource autologging to work.\n",
      "2024/05/27 14:53:15 INFO mlflow.tracking.fluent: Autologging successfully enabled for pyspark.\n",
      "2024/05/27 14:53:16 WARNING mlflow.sklearn: Failed to log training dataset information to MLflow Tracking. Reason: 'numpy.ndarray' object has no attribute 'toarray'\n",
      "/nix/store/29vig1xp5a0mamssg4sj5xylprwj3j1x-python3.11-scikit-learn-1.4.2/lib/python3.11/site-packages/sklearn/metrics/_regression.py:483: FutureWarning: 'squared' is deprecated in version 1.4 and will be removed in 1.6. To calculate the root mean squared error, use the function'root_mean_squared_error'.\n",
      "  warnings.warn(\n"
     ]
    }
   ],
   "source": [
    "# Q3. Train a model with autolog\n",
    "# We will train a RandomForestRegressor (from Scikit-Learn) on the taxi dataset.\n",
    "! python ./scripts/hw-week-2/train.py --data_path ../output\n",
    "\n",
    "# min_samples_split = 2"
   ]
  },
  {
   "cell_type": "code",
   "execution_count": null,
   "id": "e23f81fc-21a1-4cef-9fa4-610846131a16",
   "metadata": {},
   "outputs": [],
   "source": [
    "# Q4. Launch the tracking server locally\n",
    "# In addition to backend-store-uri, what else do you need to pass to properly configure the server?\n",
    "# ** `--default-artifact-route`"
   ]
  },
  {
   "cell_type": "code",
   "execution_count": 17,
   "id": "a88c9fc6-c6f6-4d5b-a824-8a031e7da7b3",
   "metadata": {},
   "outputs": [
    {
     "name": "stdout",
     "output_type": "stream",
     "text": [
      "  0%|                                    | 0/15 [00:00<?, ?trial/s, best loss=?]/nix/store/29vig1xp5a0mamssg4sj5xylprwj3j1x-python3.11-scikit-learn-1.4.2/lib/python3.11/site-packages/sklearn/metrics/_regression.py:483: FutureWarning: 'squared' is deprecated in version 1.4 and will be removed in 1.6. To calculate the root mean squared error, use the function'root_mean_squared_error'.\n",
      "  warnings.warn(\n",
      "\n",
      "  7%|▋          | 1/15 [00:06<01:33,  6.66s/trial, best loss: 5.370086069268862]/nix/store/29vig1xp5a0mamssg4sj5xylprwj3j1x-python3.11-scikit-learn-1.4.2/lib/python3.11/site-packages/sklearn/metrics/_regression.py:483: FutureWarning: 'squared' is deprecated in version 1.4 and will be removed in 1.6. To calculate the root mean squared error, use the function'root_mean_squared_error'.\n",
      "  warnings.warn(\n",
      "\n",
      " 13%|█▍         | 2/15 [00:07<00:38,  2.94s/trial, best loss: 5.370086069268862]/nix/store/29vig1xp5a0mamssg4sj5xylprwj3j1x-python3.11-scikit-learn-1.4.2/lib/python3.11/site-packages/sklearn/metrics/_regression.py:483: FutureWarning: 'squared' is deprecated in version 1.4 and will be removed in 1.6. To calculate the root mean squared error, use the function'root_mean_squared_error'.\n",
      "  warnings.warn(\n",
      "\n",
      " 20%|██▏        | 3/15 [00:07<00:21,  1.80s/trial, best loss: 5.370086069268862]/nix/store/29vig1xp5a0mamssg4sj5xylprwj3j1x-python3.11-scikit-learn-1.4.2/lib/python3.11/site-packages/sklearn/metrics/_regression.py:483: FutureWarning: 'squared' is deprecated in version 1.4 and will be removed in 1.6. To calculate the root mean squared error, use the function'root_mean_squared_error'.\n",
      "  warnings.warn(\n",
      "\n",
      " 27%|██▉        | 4/15 [00:11<00:29,  2.70s/trial, best loss: 5.357490752366866]/nix/store/29vig1xp5a0mamssg4sj5xylprwj3j1x-python3.11-scikit-learn-1.4.2/lib/python3.11/site-packages/sklearn/metrics/_regression.py:483: FutureWarning: 'squared' is deprecated in version 1.4 and will be removed in 1.6. To calculate the root mean squared error, use the function'root_mean_squared_error'.\n",
      "  warnings.warn(\n",
      "\n",
      " 33%|███▋       | 5/15 [00:13<00:25,  2.52s/trial, best loss: 5.357490752366866]/nix/store/29vig1xp5a0mamssg4sj5xylprwj3j1x-python3.11-scikit-learn-1.4.2/lib/python3.11/site-packages/sklearn/metrics/_regression.py:483: FutureWarning: 'squared' is deprecated in version 1.4 and will be removed in 1.6. To calculate the root mean squared error, use the function'root_mean_squared_error'.\n",
      "  warnings.warn(\n",
      "\n",
      " 40%|████▍      | 6/15 [00:21<00:37,  4.15s/trial, best loss: 5.354695072530291]/nix/store/29vig1xp5a0mamssg4sj5xylprwj3j1x-python3.11-scikit-learn-1.4.2/lib/python3.11/site-packages/sklearn/metrics/_regression.py:483: FutureWarning: 'squared' is deprecated in version 1.4 and will be removed in 1.6. To calculate the root mean squared error, use the function'root_mean_squared_error'.\n",
      "  warnings.warn(\n",
      "\n",
      " 47%|█████▏     | 7/15 [00:28<00:41,  5.20s/trial, best loss: 5.354695072530291]/nix/store/29vig1xp5a0mamssg4sj5xylprwj3j1x-python3.11-scikit-learn-1.4.2/lib/python3.11/site-packages/sklearn/metrics/_regression.py:483: FutureWarning: 'squared' is deprecated in version 1.4 and will be removed in 1.6. To calculate the root mean squared error, use the function'root_mean_squared_error'.\n",
      "  warnings.warn(\n",
      "\n",
      " 53%|█████▊     | 8/15 [00:29<00:26,  3.79s/trial, best loss: 5.354695072530291]/nix/store/29vig1xp5a0mamssg4sj5xylprwj3j1x-python3.11-scikit-learn-1.4.2/lib/python3.11/site-packages/sklearn/metrics/_regression.py:483: FutureWarning: 'squared' is deprecated in version 1.4 and will be removed in 1.6. To calculate the root mean squared error, use the function'root_mean_squared_error'.\n",
      "  warnings.warn(\n",
      "\n",
      " 60%|██████▌    | 9/15 [00:33<00:24,  4.01s/trial, best loss: 5.354695072530291]/nix/store/29vig1xp5a0mamssg4sj5xylprwj3j1x-python3.11-scikit-learn-1.4.2/lib/python3.11/site-packages/sklearn/metrics/_regression.py:483: FutureWarning: 'squared' is deprecated in version 1.4 and will be removed in 1.6. To calculate the root mean squared error, use the function'root_mean_squared_error'.\n",
      "  warnings.warn(\n",
      "\n",
      " 67%|██████▋   | 10/15 [00:37<00:19,  3.87s/trial, best loss: 5.354695072530291]/nix/store/29vig1xp5a0mamssg4sj5xylprwj3j1x-python3.11-scikit-learn-1.4.2/lib/python3.11/site-packages/sklearn/metrics/_regression.py:483: FutureWarning: 'squared' is deprecated in version 1.4 and will be removed in 1.6. To calculate the root mean squared error, use the function'root_mean_squared_error'.\n",
      "  warnings.warn(\n",
      "\n",
      " 73%|███████▎  | 11/15 [00:40<00:14,  3.62s/trial, best loss: 5.335419588556921]/nix/store/29vig1xp5a0mamssg4sj5xylprwj3j1x-python3.11-scikit-learn-1.4.2/lib/python3.11/site-packages/sklearn/metrics/_regression.py:483: FutureWarning: 'squared' is deprecated in version 1.4 and will be removed in 1.6. To calculate the root mean squared error, use the function'root_mean_squared_error'.\n",
      "  warnings.warn(\n",
      "\n",
      " 80%|████████  | 12/15 [00:42<00:09,  3.20s/trial, best loss: 5.335419588556921]/nix/store/29vig1xp5a0mamssg4sj5xylprwj3j1x-python3.11-scikit-learn-1.4.2/lib/python3.11/site-packages/sklearn/metrics/_regression.py:483: FutureWarning: 'squared' is deprecated in version 1.4 and will be removed in 1.6. To calculate the root mean squared error, use the function'root_mean_squared_error'.\n",
      "  warnings.warn(\n",
      "\n",
      " 87%|████████▋ | 13/15 [00:43<00:04,  2.46s/trial, best loss: 5.335419588556921]/nix/store/29vig1xp5a0mamssg4sj5xylprwj3j1x-python3.11-scikit-learn-1.4.2/lib/python3.11/site-packages/sklearn/metrics/_regression.py:483: FutureWarning: 'squared' is deprecated in version 1.4 and will be removed in 1.6. To calculate the root mean squared error, use the function'root_mean_squared_error'.\n",
      "  warnings.warn(\n",
      "\n",
      " 93%|█████████▎| 14/15 [00:46<00:02,  2.56s/trial, best loss: 5.335419588556921]/nix/store/29vig1xp5a0mamssg4sj5xylprwj3j1x-python3.11-scikit-learn-1.4.2/lib/python3.11/site-packages/sklearn/metrics/_regression.py:483: FutureWarning: 'squared' is deprecated in version 1.4 and will be removed in 1.6. To calculate the root mean squared error, use the function'root_mean_squared_error'.\n",
      "  warnings.warn(\n",
      "\n",
      "100%|██████████| 15/15 [00:50<00:00,  3.34s/trial, best loss: 5.335419588556921]\n"
     ]
    }
   ],
   "source": [
    "# Q5. Tune model hyperparameters\n",
    "\n",
    "# Now let's try to reduce the validation error by tuning the hyperparameters of the RandomForestRegressor using hyperopt. We have prepared the script hpo.py for this exercise.\n",
    "# What's the best validation RMSE that you got?\n",
    "! python ./scripts/hw-week-2/hpo.py --data_path ../output\n",
    "\n",
    "# Best rmse: 5.335"
   ]
  },
  {
   "cell_type": "code",
   "execution_count": 18,
   "id": "c42161f9-39d5-4bdd-8fd6-bf336dab3efc",
   "metadata": {},
   "outputs": [
    {
     "name": "stdout",
     "output_type": "stream",
     "text": [
      "2024/05/27 22:32:06 WARNING mlflow.sklearn: Failed to log training dataset information to MLflow Tracking. Reason: 'numpy.ndarray' object has no attribute 'toarray'\n",
      "/nix/store/29vig1xp5a0mamssg4sj5xylprwj3j1x-python3.11-scikit-learn-1.4.2/lib/python3.11/site-packages/sklearn/metrics/_regression.py:483: FutureWarning: 'squared' is deprecated in version 1.4 and will be removed in 1.6. To calculate the root mean squared error, use the function'root_mean_squared_error'.\n",
      "  warnings.warn(\n",
      "/nix/store/29vig1xp5a0mamssg4sj5xylprwj3j1x-python3.11-scikit-learn-1.4.2/lib/python3.11/site-packages/sklearn/metrics/_regression.py:483: FutureWarning: 'squared' is deprecated in version 1.4 and will be removed in 1.6. To calculate the root mean squared error, use the function'root_mean_squared_error'.\n",
      "  warnings.warn(\n",
      "2024/05/27 22:32:12 WARNING mlflow.sklearn: Failed to log training dataset information to MLflow Tracking. Reason: 'numpy.ndarray' object has no attribute 'toarray'\n",
      "/nix/store/29vig1xp5a0mamssg4sj5xylprwj3j1x-python3.11-scikit-learn-1.4.2/lib/python3.11/site-packages/sklearn/metrics/_regression.py:483: FutureWarning: 'squared' is deprecated in version 1.4 and will be removed in 1.6. To calculate the root mean squared error, use the function'root_mean_squared_error'.\n",
      "  warnings.warn(\n",
      "/nix/store/29vig1xp5a0mamssg4sj5xylprwj3j1x-python3.11-scikit-learn-1.4.2/lib/python3.11/site-packages/sklearn/metrics/_regression.py:483: FutureWarning: 'squared' is deprecated in version 1.4 and will be removed in 1.6. To calculate the root mean squared error, use the function'root_mean_squared_error'.\n",
      "  warnings.warn(\n",
      "2024/05/27 22:32:24 WARNING mlflow.sklearn: Failed to log training dataset information to MLflow Tracking. Reason: 'numpy.ndarray' object has no attribute 'toarray'\n",
      "/nix/store/29vig1xp5a0mamssg4sj5xylprwj3j1x-python3.11-scikit-learn-1.4.2/lib/python3.11/site-packages/sklearn/metrics/_regression.py:483: FutureWarning: 'squared' is deprecated in version 1.4 and will be removed in 1.6. To calculate the root mean squared error, use the function'root_mean_squared_error'.\n",
      "  warnings.warn(\n",
      "/nix/store/29vig1xp5a0mamssg4sj5xylprwj3j1x-python3.11-scikit-learn-1.4.2/lib/python3.11/site-packages/sklearn/metrics/_regression.py:483: FutureWarning: 'squared' is deprecated in version 1.4 and will be removed in 1.6. To calculate the root mean squared error, use the function'root_mean_squared_error'.\n",
      "  warnings.warn(\n",
      "2024/05/27 22:32:31 WARNING mlflow.sklearn: Failed to log training dataset information to MLflow Tracking. Reason: 'numpy.ndarray' object has no attribute 'toarray'\n",
      "/nix/store/29vig1xp5a0mamssg4sj5xylprwj3j1x-python3.11-scikit-learn-1.4.2/lib/python3.11/site-packages/sklearn/metrics/_regression.py:483: FutureWarning: 'squared' is deprecated in version 1.4 and will be removed in 1.6. To calculate the root mean squared error, use the function'root_mean_squared_error'.\n",
      "  warnings.warn(\n",
      "/nix/store/29vig1xp5a0mamssg4sj5xylprwj3j1x-python3.11-scikit-learn-1.4.2/lib/python3.11/site-packages/sklearn/metrics/_regression.py:483: FutureWarning: 'squared' is deprecated in version 1.4 and will be removed in 1.6. To calculate the root mean squared error, use the function'root_mean_squared_error'.\n",
      "  warnings.warn(\n",
      "2024/05/27 22:32:39 WARNING mlflow.sklearn: Failed to log training dataset information to MLflow Tracking. Reason: 'numpy.ndarray' object has no attribute 'toarray'\n",
      "/nix/store/29vig1xp5a0mamssg4sj5xylprwj3j1x-python3.11-scikit-learn-1.4.2/lib/python3.11/site-packages/sklearn/metrics/_regression.py:483: FutureWarning: 'squared' is deprecated in version 1.4 and will be removed in 1.6. To calculate the root mean squared error, use the function'root_mean_squared_error'.\n",
      "  warnings.warn(\n",
      "/nix/store/29vig1xp5a0mamssg4sj5xylprwj3j1x-python3.11-scikit-learn-1.4.2/lib/python3.11/site-packages/sklearn/metrics/_regression.py:483: FutureWarning: 'squared' is deprecated in version 1.4 and will be removed in 1.6. To calculate the root mean squared error, use the function'root_mean_squared_error'.\n",
      "  warnings.warn(\n",
      "Successfully registered model 'sk-learn-random-forest-reg'.\n",
      "2024/05/27 22:32:46 INFO mlflow.store.model_registry.abstract_store: Waiting up to 300 seconds for model version to finish creation. Model name: sk-learn-random-forest-reg, version 1\n",
      "Created version '1' of model 'sk-learn-random-forest-reg'.\n"
     ]
    }
   ],
   "source": [
    "# Q6. Promote the best model to the model registry\n",
    "\n",
    "# The results from the hyperparameter optimization are quite good. So, we can assume that we are ready to test some of these models in production. In this exercise, \n",
    "# you'll promote the best model to the model registry. We have prepared a script called register_model.py, \n",
    "# which will check the results from the previous step and select the top 5 runs.\n",
    "\n",
    "! python ./scripts/hw-week-2/register_model.py --data_path ../output\n",
    "\n",
    "# What is the test RMSE of the best model?; 5.567"
   ]
  },
  {
   "cell_type": "code",
   "execution_count": null,
   "id": "a8476d43-8fc2-4f5b-b958-acd7622b2507",
   "metadata": {},
   "outputs": [],
   "source": []
  }
 ],
 "metadata": {
  "kernelspec": {
   "display_name": "Python 3 (ipykernel)",
   "language": "python",
   "name": "python3"
  },
  "language_info": {
   "codemirror_mode": {
    "name": "ipython",
    "version": 3
   },
   "file_extension": ".py",
   "mimetype": "text/x-python",
   "name": "python",
   "nbconvert_exporter": "python",
   "pygments_lexer": "ipython3",
   "version": "3.11.9"
  }
 },
 "nbformat": 4,
 "nbformat_minor": 5
}
