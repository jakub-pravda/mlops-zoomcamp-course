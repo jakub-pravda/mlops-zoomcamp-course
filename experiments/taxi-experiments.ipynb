{
 "cells": [
  {
   "cell_type": "code",
   "execution_count": 1,
   "id": "65a1e4c9-a347-40ae-aca9-47712930ee77",
   "metadata": {
    "tags": []
   },
   "outputs": [],
   "source": [
    "import pandas as pd\n",
    "import seaborn as sns\n",
    "import matplotlib.pyplot as plt\n",
    "from sklearn.feature_extraction import DictVectorizer\n",
    "from sklearn.linear_model import LinearRegression\n",
    "\n",
    "from sklearn.metrics import mean_squared_error"
   ]
  },
  {
   "cell_type": "markdown",
   "id": "0c36bb43-c782-4e63-bfd1-1a2bb4b8f3ff",
   "metadata": {
    "tags": []
   },
   "source": [
    "### Load yellow taxi data\n",
    "[NY taxi dataset](https://www.nyc.gov/site/tlc/about/tlc-trip-record-data.page)"
   ]
  },
  {
   "cell_type": "code",
   "execution_count": 32,
   "id": "796f3c0a-6c77-41c9-a7e8-b3696c02abd8",
   "metadata": {
    "tags": []
   },
   "outputs": [],
   "source": [
    "# Read parquets and do some transformations\n",
    "def read_data_frame(filename):\n",
    "    df = pd.read_parquet(filename)\n",
    "    df['duration'] = (df.tpep_dropoff_datetime - df.tpep_pickup_datetime)\n",
    "    df.duration = df.duration.apply(lambda td: td.total_seconds() / 60)\n",
    "\n",
    "    df = df[(df['duration'] > 0) & (df['duration'] < 120) & (df['passenger_count'].notna())]\n",
    "\n",
    "    categorical = ['PULocationID', 'DOLocationID']\n",
    "    numerical = ['trip_distance']\n",
    "    \n",
    "    df[categorical] = df[categorical].astype(str)\n",
    "    return df"
   ]
  },
  {
   "cell_type": "code",
   "execution_count": 33,
   "id": "95ae951d-b161-4688-a02b-4a5c11e3b55a",
   "metadata": {
    "tags": []
   },
   "outputs": [
    {
     "data": {
      "text/plain": [
       "(2820972, 2818415)"
      ]
     },
     "execution_count": 33,
     "metadata": {},
     "output_type": "execute_result"
    }
   ],
   "source": [
    "# Prepare train and valdiation data\n",
    "\n",
    "df_train = read_data_frame('../data/yellow_tripdata_2024-01.parquet')\n",
    "df_val = read_data_frame('../data/yellow_tripdata_2024-02.parquet')\n",
    "\n",
    "len(df_train), len(df_val)"
   ]
  },
  {
   "cell_type": "code",
   "execution_count": 34,
   "id": "55721ffd-01cf-4baa-b864-34bdcfcfe049",
   "metadata": {},
   "outputs": [
    {
     "data": {
      "text/plain": [
       "count    2.820972e+06\n",
       "mean     1.474504e+01\n",
       "std      1.177543e+01\n",
       "min      1.666667e-02\n",
       "50%      1.150000e+01\n",
       "95%      3.796667e+01\n",
       "98%      5.070000e+01\n",
       "99%      5.960000e+01\n",
       "max      1.199667e+02\n",
       "Name: duration, dtype: float64"
      ]
     },
     "execution_count": 34,
     "metadata": {},
     "output_type": "execute_result"
    }
   ],
   "source": [
    "# Just describe dataset\n",
    "df_train.duration.describe(percentiles=[0.95, 0.98, 0.99])"
   ]
  },
  {
   "cell_type": "code",
   "execution_count": 35,
   "id": "275744e3-57c2-449c-bd30-b461725f5fd5",
   "metadata": {
    "tags": []
   },
   "outputs": [
    {
     "name": "stderr",
     "output_type": "stream",
     "text": [
      "/tmp/ipykernel_48375/1764197534.py:1: UserWarning: \n",
      "\n",
      "`distplot` is a deprecated function and will be removed in seaborn v0.14.0.\n",
      "\n",
      "Please adapt your code to use either `displot` (a figure-level function with\n",
      "similar flexibility) or `histplot` (an axes-level function for histograms).\n",
      "\n",
      "For a guide to updating your code to use the new functions, please see\n",
      "https://gist.github.com/mwaskom/de44147ed2974457ad6372750bbe5751\n",
      "\n",
      "  sns.distplot(df_train.duration)\n",
      "/tmp/ipykernel_48375/1764197534.py:2: UserWarning: \n",
      "\n",
      "`distplot` is a deprecated function and will be removed in seaborn v0.14.0.\n",
      "\n",
      "Please adapt your code to use either `displot` (a figure-level function with\n",
      "similar flexibility) or `histplot` (an axes-level function for histograms).\n",
      "\n",
      "For a guide to updating your code to use the new functions, please see\n",
      "https://gist.github.com/mwaskom/de44147ed2974457ad6372750bbe5751\n",
      "\n",
      "  sns.distplot(df_val.duration)\n"
     ]
    },
    {
     "data": {
      "text/plain": [
       "<AxesSubplot: xlabel='duration', ylabel='Density'>"
      ]
     },
     "execution_count": 35,
     "metadata": {},
     "output_type": "execute_result"
    },
    {
     "data": {
      "image/png": "[encoded data removed]",
      "text/plain": [
       "<Figure size 640x480 with 1 Axes>"
      ]
     },
     "metadata": {},
     "output_type": "display_data"
    }
   ],
   "source": [
    "sns.distplot(df_train.duration)\n",
    "sns.distplot(df_val.duration)"
   ]
  },
  {
   "cell_type": "code",
   "execution_count": 37,
   "id": "bfb17761-bb52-4c03-aaa4-3cc0132524b4",
   "metadata": {
    "tags": []
   },
   "outputs": [
    {
     "data": {
      "text/plain": [
       "VendorID                        float64\n",
       "tpep_pickup_datetime     datetime64[ns]\n",
       "tpep_dropoff_datetime    datetime64[ns]\n",
       "passenger_count                 float64\n",
       "trip_distance                   float64\n",
       "RatecodeID                      float64\n",
       "store_and_fwd_flag               object\n",
       "PULocationID                     object\n",
       "DOLocationID                     object\n",
       "payment_type                    float64\n",
       "fare_amount                     float64\n",
       "extra                           float64\n",
       "mta_tax                         float64\n",
       "tip_amount                      float64\n",
       "tolls_amount                    float64\n",
       "improvement_surcharge           float64\n",
       "total_amount                    float64\n",
       "congestion_surcharge            float64\n",
       "Airport_fee                     float64\n",
       "duration                        float64\n",
       "dtype: object"
      ]
     },
     "execution_count": 37,
     "metadata": {},
     "output_type": "execute_result"
    }
   ],
   "source": [
    "df_train.dtypes"
   ]
  },
  {
   "cell_type": "code",
   "execution_count": 41,
   "id": "28ed5cb9-74b6-4f66-bba9-c5fd760fb227",
   "metadata": {
    "tags": []
   },
   "outputs": [],
   "source": [
    "# Hyperparam tunning\n",
    "df_train['PU_DO'] = df_train['PULocationID'] + df_train['DOLocationID']\n",
    "df_val['PU_DO'] = df_val['PULocationID'] + df_val['DOLocationID']"
   ]
  },
  {
   "cell_type": "code",
   "execution_count": 47,
   "id": "89d8b832-45fb-495d-9849-438cebc9f09b",
   "metadata": {},
   "outputs": [
    {
     "data": {
      "text/plain": [
       "6.851156051099668"
      ]
     },
     "execution_count": 47,
     "metadata": {},
     "output_type": "execute_result"
    }
   ],
   "source": [
    "# *** Train model - Linear regression ***\n",
    "\n",
    "categorical = ['PU_DO'] #['PULocationID', 'DOLocationID']\n",
    "numerical = ['trip_distance']\n",
    "\n",
    "dv = DictVectorizer()\n",
    "\n",
    "# Feature matrix for my model training\n",
    "train_dicts = df_train[categorical + numerical].to_dict(orient='records')\n",
    "X_train = dv.fit_transform(train_dicts)\n",
    "\n",
    "# Feature matrix for my model training\n",
    "val_dicts = df_val[categorical + numerical].to_dict(orient='records')\n",
    "X_val = dv.transform(val_dicts)\n",
    "\n",
    "# Training part\n",
    "target = 'duration'\n",
    "y_train = df_train[target].values\n",
    "y_val = df_val[target].values\n",
    "\n",
    "lr = LinearRegression()\n",
    "lr.fit(X_train, y_train)\n",
    "\n",
    "# Prediction part\n",
    "y_predict = lr.predict(X_val)\n",
    "\n",
    "# Evaluation part\n",
    "mean_squared_error(y_val, y_predict, squared=False)\n",
    "\n",
    "\n"
   ]
  },
  {
   "cell_type": "code",
   "execution_count": 49,
   "id": "1cc929ae-2f43-431f-a10e-ad698cd77a00",
   "metadata": {
    "tags": []
   },
   "outputs": [],
   "source": [
    "# Save the model - we'll use this model for entire course\n",
    "import pickle\n",
    "\n",
    "with open('../models/lin_reg.bin', 'wb') as f_out:\n",
    "    pickle.dump((dv, lr), f_out)"
   ]
  },
  {
   "cell_type": "code",
   "execution_count": 45,
   "id": "35e26409-3504-48ea-a1da-d0a57833333c",
   "metadata": {
    "tags": []
   },
   "outputs": [
    {
     "name": "stderr",
     "output_type": "stream",
     "text": [
      "/tmp/ipykernel_48375/2396437901.py:1: UserWarning: \n",
      "\n",
      "`distplot` is a deprecated function and will be removed in seaborn v0.14.0.\n",
      "\n",
      "Please adapt your code to use either `displot` (a figure-level function with\n",
      "similar flexibility) or `histplot` (an axes-level function for histograms).\n",
      "\n",
      "For a guide to updating your code to use the new functions, please see\n",
      "https://gist.github.com/mwaskom/de44147ed2974457ad6372750bbe5751\n",
      "\n",
      "  sns.distplot(y_predict, label='prediction')\n",
      "/tmp/ipykernel_48375/2396437901.py:2: UserWarning: \n",
      "\n",
      "`distplot` is a deprecated function and will be removed in seaborn v0.14.0.\n",
      "\n",
      "Please adapt your code to use either `displot` (a figure-level function with\n",
      "similar flexibility) or `histplot` (an axes-level function for histograms).\n",
      "\n",
      "For a guide to updating your code to use the new functions, please see\n",
      "https://gist.github.com/mwaskom/de44147ed2974457ad6372750bbe5751\n",
      "\n",
      "  sns.distplot(y_train, label='actual')\n"
     ]
    },
    {
     "data": {
      "text/plain": [
       "<matplotlib.legend.Legend at 0x7f5ee520b100>"
      ]
     },
     "execution_count": 45,
     "metadata": {},
     "output_type": "execute_result"
    },
    {
     "data": {
      "image/png": "[encoded data removed]",
      "text/plain": [
       "<Figure size 640x480 with 1 Axes>"
      ]
     },
     "metadata": {},
     "output_type": "display_data"
    }
   ],
   "source": [
    "# Plot is somehow weird, maybe we need to do more data cleaning?\n",
    "sns.distplot(y_predict, label='prediction')\n",
    "sns.distplot(y_train, label='actual')\n",
    "plt.legend()"
   ]
  },
  {
   "cell_type": "markdown",
   "id": "02d1f93c-fced-448b-a537-1d7e4e701544",
   "metadata": {},
   "source": [
    "## Try to use Laso reggresion"
   ]
  },
  {
   "cell_type": "code",
   "execution_count": 22,
   "id": "7ac4bc9f-df2f-432b-be70-74e7e9aaee0b",
   "metadata": {
    "tags": []
   },
   "outputs": [],
   "source": [
    "from sklearn.linear_model import Lasso"
   ]
  },
  {
   "cell_type": "code",
   "execution_count": 50,
   "id": "c77fc21a-86dd-41e5-88e9-e556cabcc52c",
   "metadata": {
    "tags": []
   },
   "outputs": [
    {
     "data": {
      "text/plain": [
       "32.80640530851559"
      ]
     },
     "execution_count": 50,
     "metadata": {},
     "output_type": "execute_result"
    }
   ],
   "source": [
    "# *** Train model - Lasso regression ***\n",
    "\n",
    "categorical = ['PU_DO'] #['PULocationID', 'DOLocationID']\n",
    "numerical = ['trip_distance']\n",
    "\n",
    "dv = DictVectorizer() = DictVectorizer()\n",
    "\n",
    "# Feature matrix for my model training\n",
    "train_dicts = df_train[categorical + numerical].to_dict(orient='records')\n",
    "X_train = dv.fit_transform(train_dicts)\n",
    "\n",
    "# Feature matrix for my model training\n",
    "val_dicts = df_val[categorical + numerical].to_dict(orient='records')\n",
    "X_val = dv.transform(val_dicts)\n",
    "\n",
    "# Training part\n",
    "target = 'duration'\n",
    "y_train = df_train[target].values\n",
    "y_val = df_val[target].values\n",
    "\n",
    "lr_lasso = Lasso(alpha=0.1)\n",
    "lr_lasso.fit(X_train, y_train)\n",
    "\n",
    "# Prediction part\n",
    "y_predict = lr_lasso.predict(X_val)\n",
    "\n",
    "# Evaluation part\n",
    "mean_squared_error(y_val, y_predict, squared=False)"
   ]
  },
  {
   "cell_type": "markdown",
   "id": "4aea3a1c-e807-4cfb-8087-686f797f4290",
   "metadata": {
    "tags": []
   },
   "source": [
    "## Homework\n",
    "\n",
    "We'll use the same NYC taxi dataset, but instead of \"Green Taxi Trip Records\", we'll use \"Yellow Taxi Trip Records\".\n",
    "Download the data for January and February 2023."
   ]
  },
  {
   "cell_type": "code",
   "execution_count": 30,
   "id": "52e73567-f775-4878-a2e4-7322ee70abf0",
   "metadata": {
    "tags": []
   },
   "outputs": [
    {
     "name": "stdout",
     "output_type": "stream",
     "text": [
      "Number of columns (january DF):  19\n"
     ]
    }
   ],
   "source": [
    "# Q1. Downloading the data\n",
    "# Read the data for January. How many columns are there?\n",
    "\n",
    "df_jan = pd.read_parquet('../data/yellow_tripdata_2023-01.parquet')\n",
    "df_feb = pd.read_parquet('../data/yellow_tripdata_2023-02.parquet')\n",
    "\n",
    "print(\"Number of columns (january DF): \", len(df_jan.columns))"
   ]
  },
  {
   "cell_type": "code",
   "execution_count": 31,
   "id": "96447b32-47ab-4f11-bbe9-11d8461b01ff",
   "metadata": {
    "tags": []
   },
   "outputs": [],
   "source": [
    "# Q2. Computing duration\n",
    "# Now let's compute the duration variable. It should contain the duration of a ride in minutes. \n",
    "# What's the standard deviation of the trips duration in January?\n",
    "def add_duration(df):\n",
    "    df['duration'] = (df.tpep_dropoff_datetime - df.tpep_pickup_datetime)\n",
    "    df.duration = df.duration.apply(lambda td: td.total_seconds() / 60)\n",
    "\n",
    "add_duration(df_jan)\n",
    "add_duration(df_feb)"
   ]
  },
  {
   "cell_type": "code",
   "execution_count": 32,
   "id": "31f70ab1-ee6b-4242-a064-124d0ff63f3e",
   "metadata": {
    "tags": []
   },
   "outputs": [
    {
     "name": "stdout",
     "output_type": "stream",
     "text": [
      "Standard deviation (january DF): 42.59\n"
     ]
    }
   ],
   "source": [
    "print('Standard deviation (january DF):', round(df_jan['duration'].std(), 2))"
   ]
  },
  {
   "cell_type": "code",
   "execution_count": 33,
   "id": "1c86cb73-0367-48f6-8c13-ce9f21237ee2",
   "metadata": {
    "tags": []
   },
   "outputs": [
    {
     "name": "stderr",
     "output_type": "stream",
     "text": [
      "/tmp/ipykernel_70920/3416407160.py:6: UserWarning: Boolean Series key will be reindexed to match DataFrame index.\n",
      "  filtered = df[(df_jan['duration'] > 1) & (df['duration'] < 60)]\n"
     ]
    },
    {
     "name": "stdout",
     "output_type": "stream",
     "text": [
      "Fraction of the record left (january DF): 98.0%\n"
     ]
    }
   ],
   "source": [
    "# Q3. Dropping outliers\n",
    "# Next, we need to check the distribution of the duration variable. There are some outliers. Let's remove them and keep\n",
    "# only the records where the duration was between 1 and 60 minutes (inclusive). What fraction of the records left after \n",
    "# you dropped the outliers?\n",
    "def filter_dataframe(df):\n",
    "    filtered = df[(df_jan['duration'] > 1) & (df['duration'] < 60)]\n",
    "    return filtered\n",
    "\n",
    "df_jan_filtered = filter_dataframe(df_jan)\n",
    "df_feb_filtered = filter_dataframe(df_feb)\n",
    "\n",
    "df_jan_len = len(df_jan.index)\n",
    "df_jan_filtered_len = len(df_jan_filtered.index)\n",
    "\n",
    "fraction_left = (df_jan_filtered_len / df_jan_len) * 100\n",
    "print(f'Fraction of the record left (january DF): {round(fraction_left, 0)}%')"
   ]
  },
  {
   "cell_type": "code",
   "execution_count": 40,
   "id": "f533fcd4-b09d-4196-88c5-e24a9b9b965d",
   "metadata": {},
   "outputs": [
    {
     "name": "stderr",
     "output_type": "stream",
     "text": [
      "/tmp/ipykernel_70920/2889782080.py:9: SettingWithCopyWarning: \n",
      "A value is trying to be set on a copy of a slice from a DataFrame.\n",
      "Try using .loc[row_indexer,col_indexer] = value instead\n",
      "\n",
      "See the caveats in the documentation: https://pandas.pydata.org/pandas-docs/stable/user_guide/indexing.html#returning-a-view-versus-a-copy\n",
      "  df[categorical] = df[categorical].astype(str)\n",
      "/tmp/ipykernel_70920/2889782080.py:9: SettingWithCopyWarning: \n",
      "A value is trying to be set on a copy of a slice from a DataFrame.\n",
      "Try using .loc[row_indexer,col_indexer] = value instead\n",
      "\n",
      "See the caveats in the documentation: https://pandas.pydata.org/pandas-docs/stable/user_guide/indexing.html#returning-a-view-versus-a-copy\n",
      "  df[categorical] = df[categorical].astype(str)\n"
     ]
    },
    {
     "name": "stdout",
     "output_type": "stream",
     "text": [
      "Dimensionality of the train matrix (january DF):  2\n"
     ]
    }
   ],
   "source": [
    "# 04. One hot encoding\n",
    "# Let's apply one-hot encoding to the pickup and dropoff location IDs. We'll use only these two features for our model.\n",
    "# - Turn the dataframe into a list of dictionaries (remember to re-cast the ids to strings - otherwise it will label encode them)\n",
    "# - Fit a dictionary vectorizer\n",
    "# - Get a feature matrix from it\n",
    "# What's the dimensionality of this matrix (number of columns)?\n",
    "def x_data(df):\n",
    "    categorical = ['PULocationID', 'DOLocationID']\n",
    "    df[categorical] = df[categorical].astype(str)\n",
    "    \n",
    "    train_dicts = df[categorical].to_dict(orient='records')\n",
    "\n",
    "    dv = DictVectorizer()\n",
    "    return dv.fit_transform(train_dicts)\n",
    "\n",
    "X_train = x_data(df_jan_filtered)\n",
    "X_val = x_data(df_feb_filtered)\n",
    "\n",
    "print('Dimensionality of the train matrix (january DF): ', X_train.ndim)"
   ]
  },
  {
   "cell_type": "code",
   "execution_count": 46,
   "id": "ec0829b4-53f5-4585-a7b7-3417f9fda752",
   "metadata": {
    "tags": []
   },
   "outputs": [],
   "source": [
    "# 05. Training model\n",
    "# Now let's use the feature matrix from the previous step to train a model.\n",
    "# - Train a plain linear regression model with default parameters\n",
    "# - Calculate the RMSE of the model on the training data\n",
    "# What's the RMSE on train?\n",
    "def train_and_predict(lr, X_train, y_train):\n",
    "    lr = LinearRegression()\n",
    "    lr.fit(X_train, y_train)\n",
    "    return lr.predict(X_train)\n",
    "\n",
    "    \n",
    "y_train = df_jan_filtered['duration'].values\n",
    "y_train_predict = train_and_predict(lr, X_train, y_train)\n",
    "\n",
    "y_val = df_feb_filtered['duration'].values\n",
    "y_val_predict =  train_and_predict(lr, X_val, y_val)"
   ]
  },
  {
   "cell_type": "code",
   "execution_count": 47,
   "id": "9c3e8b3b-af81-408a-80fe-b92389d94168",
   "metadata": {
    "tags": []
   },
   "outputs": [
    {
     "name": "stdout",
     "output_type": "stream",
     "text": [
      "RMSE train value: 7.65, RMSE val value: 8.06\n"
     ]
    }
   ],
   "source": [
    "rmse_train = mean_squared_error(y_train, y_train_predict, squared=False)\n",
    "rmse_val = mean_squared_error(y_val, y_val_predict, squared=False)\n",
    "print(f'RMSE train value: {round(rmse_train, 2)}, RMSE val value: {round(rmse_val, 2)}')"
   ]
  },
  {
   "cell_type": "code",
   "execution_count": 27,
   "id": "31fe0e4e-c9c9-4bfd-a4f6-3fd645714ed6",
   "metadata": {
    "tags": []
   },
   "outputs": [
    {
     "name": "stderr",
     "output_type": "stream",
     "text": [
      "/tmp/ipykernel_70920/2396437901.py:1: UserWarning: \n",
      "\n",
      "`distplot` is a deprecated function and will be removed in seaborn v0.14.0.\n",
      "\n",
      "Please adapt your code to use either `displot` (a figure-level function with\n",
      "similar flexibility) or `histplot` (an axes-level function for histograms).\n",
      "\n",
      "For a guide to updating your code to use the new functions, please see\n",
      "https://gist.github.com/mwaskom/de44147ed2974457ad6372750bbe5751\n",
      "\n",
      "  sns.distplot(y_predict, label='prediction')\n",
      "/tmp/ipykernel_70920/2396437901.py:2: UserWarning: \n",
      "\n",
      "`distplot` is a deprecated function and will be removed in seaborn v0.14.0.\n",
      "\n",
      "Please adapt your code to use either `displot` (a figure-level function with\n",
      "similar flexibility) or `histplot` (an axes-level function for histograms).\n",
      "\n",
      "For a guide to updating your code to use the new functions, please see\n",
      "https://gist.github.com/mwaskom/de44147ed2974457ad6372750bbe5751\n",
      "\n",
      "  sns.distplot(y_train, label='actual')\n"
     ]
    },
    {
     "data": {
      "text/plain": [
       "<matplotlib.legend.Legend at 0x7fd088ef5840>"
      ]
     },
     "execution_count": 27,
     "metadata": {},
     "output_type": "execute_result"
    },
    {
     "data": {
      "image/png": "[encoded data removed]",
      "text/plain": [
       "<Figure size 640x480 with 1 Axes>"
      ]
     },
     "metadata": {},
     "output_type": "display_data"
    }
   ],
   "source": [
    "sns.distplot(y_predict, label='prediction')\n",
    "sns.distplot(y_train, label='actual')\n",
    "plt.legend()"
   ]
  },
  {
   "cell_type": "code",
   "execution_count": null,
   "id": "714cf310-9135-44a1-ab42-5b5624a72e21",
   "metadata": {},
   "outputs": [],
   "source": []
  }
 ],
 "metadata": {
  "kernelspec": {
   "display_name": "MLOps zoomcamp kernel",
   "language": "python",
   "name": "python-mlops"
  },
  "language_info": {
   "codemirror_mode": {
    "name": "ipython",
    "version": 3
   },
   "file_extension": ".py",
   "mimetype": "text/x-python",
   "name": "python",
   "nbconvert_exporter": "python",
   "pygments_lexer": "ipython3",
   "version": "3.10.9"
  }
 },
 "nbformat": 4,
 "nbformat_minor": 5
}
